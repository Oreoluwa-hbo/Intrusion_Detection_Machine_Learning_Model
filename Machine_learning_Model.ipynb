{
  "cells": [
    {
      "cell_type": "code",
      "execution_count": 1,
      "metadata": {
        "colab": {
          "base_uri": "https://localhost:8080/"
        },
        "id": "208W1_QDv8JS",
        "outputId": "96e10d56-140c-4771-8c36-62660edcdbb6"
      },
      "outputs": [
        {
          "output_type": "stream",
          "name": "stdout",
          "text": [
            "Requirement already satisfied: adversarial-robustness-toolbox in /usr/local/lib/python3.10/dist-packages (1.17.1)\n",
            "Requirement already satisfied: numpy>=1.18.0 in /usr/local/lib/python3.10/dist-packages (from adversarial-robustness-toolbox) (1.25.2)\n",
            "Requirement already satisfied: scipy>=1.4.1 in /usr/local/lib/python3.10/dist-packages (from adversarial-robustness-toolbox) (1.11.4)\n",
            "Requirement already satisfied: scikit-learn>=0.22.2 in /usr/local/lib/python3.10/dist-packages (from adversarial-robustness-toolbox) (1.2.2)\n",
            "Requirement already satisfied: six in /usr/local/lib/python3.10/dist-packages (from adversarial-robustness-toolbox) (1.16.0)\n",
            "Requirement already satisfied: setuptools in /usr/local/lib/python3.10/dist-packages (from adversarial-robustness-toolbox) (67.7.2)\n",
            "Requirement already satisfied: tqdm in /usr/local/lib/python3.10/dist-packages (from adversarial-robustness-toolbox) (4.66.2)\n",
            "Requirement already satisfied: joblib>=1.1.1 in /usr/local/lib/python3.10/dist-packages (from scikit-learn>=0.22.2->adversarial-robustness-toolbox) (1.3.2)\n",
            "Requirement already satisfied: threadpoolctl>=2.0.0 in /usr/local/lib/python3.10/dist-packages (from scikit-learn>=0.22.2->adversarial-robustness-toolbox) (3.4.0)\n"
          ]
        }
      ],
      "source": [
        "!pip install adversarial-robustness-toolbox"
      ]
    },
    {
      "cell_type": "code",
      "source": [
        "import tensorflow as tf\n",
        "tf.compat.v1.disable_eager_execution()"
      ],
      "metadata": {
        "id": "5zfxq6a0C7e8"
      },
      "execution_count": 2,
      "outputs": []
    },
    {
      "cell_type": "code",
      "execution_count": 3,
      "metadata": {
        "id": "_6pIWiYwgG6_"
      },
      "outputs": [],
      "source": [
        "from art.attacks.evasion import FastGradientMethod\n",
        "from art.attacks.evasion import ProjectedGradientDescent\n",
        "from art.attacks.evasion import BasicIterativeMethod\n",
        "from art.estimators.classification import KerasClassifier\n"
      ]
    },
    {
      "cell_type": "code",
      "execution_count": 4,
      "metadata": {
        "colab": {
          "base_uri": "https://localhost:8080/"
        },
        "id": "VQXSg9ZhgKbp",
        "outputId": "81389958-b8f0-42f2-ea60-18ea2ae3109e"
      },
      "outputs": [
        {
          "output_type": "stream",
          "name": "stdout",
          "text": [
            "Drive already mounted at /gdrive; to attempt to forcibly remount, call drive.mount(\"/gdrive\", force_remount=True).\n"
          ]
        }
      ],
      "source": [
        "from google.colab import drive\n",
        "drive.mount('/gdrive')"
      ]
    },
    {
      "cell_type": "code",
      "execution_count": 5,
      "metadata": {
        "colab": {
          "base_uri": "https://localhost:8080/"
        },
        "id": "gK8pRyPayBUu",
        "outputId": "e1f47d46-d5f3-4444-cc9a-22a3cc398108"
      },
      "outputs": [
        {
          "output_type": "stream",
          "name": "stdout",
          "text": [
            "/gdrive/MyDrive/Net4011_Project_Part1\n"
          ]
        }
      ],
      "source": [
        "cd /gdrive/MyDrive/Net4011_Project_Part1"
      ]
    },
    {
      "cell_type": "code",
      "execution_count": 6,
      "metadata": {
        "colab": {
          "base_uri": "https://localhost:8080/",
          "height": 206
        },
        "id": "CTpqvpzCwAD7",
        "outputId": "8ad9d086-a648-4fb4-e7b3-e91038b286f6"
      },
      "outputs": [
        {
          "output_type": "execute_result",
          "data": {
            "text/plain": [
              "   pkSeqID proto            saddr  sport          daddr dport     seq  \\\n",
              "0  3142762   udp  192.168.100.150   6551  192.168.100.3    80  251984   \n",
              "1  2432264   tcp  192.168.100.150   5532  192.168.100.3    80  256724   \n",
              "2  1976315   tcp  192.168.100.147  27165  192.168.100.3    80   62921   \n",
              "3  1240757   udp  192.168.100.150  48719  192.168.100.3    80   99168   \n",
              "4  3257991   udp  192.168.100.147  22461  192.168.100.3    80  105063   \n",
              "\n",
              "     stddev  N_IN_Conn_P_SrcIP       min  state_number      mean  \\\n",
              "0  1.900363                100  0.000000             4  2.687519   \n",
              "1  0.078003                 38  3.856930             3  3.934927   \n",
              "2  0.268666                100  2.974100             3  3.341429   \n",
              "3  1.823185                 63  0.000000             4  3.222832   \n",
              "4  0.822418                100  2.979995             4  3.983222   \n",
              "\n",
              "   N_IN_Conn_P_DstIP  drate     srate       max  attack category subcategory  \n",
              "0                100    0.0  0.494549  4.031619       1     DDoS         UDP  \n",
              "1                100    0.0  0.256493  4.012924       1     DDoS         TCP  \n",
              "2                100    0.0  0.294880  3.609205       1     DDoS         TCP  \n",
              "3                 63    0.0  0.461435  4.942302       1      DoS         UDP  \n",
              "4                100    0.0  1.002999  4.994452       1     DDoS         UDP  "
            ],
            "text/html": [
              "\n",
              "  <div id=\"df-09d755b5-724b-4f2f-86ad-6971e1fe48da\" class=\"colab-df-container\">\n",
              "    <div>\n",
              "<style scoped>\n",
              "    .dataframe tbody tr th:only-of-type {\n",
              "        vertical-align: middle;\n",
              "    }\n",
              "\n",
              "    .dataframe tbody tr th {\n",
              "        vertical-align: top;\n",
              "    }\n",
              "\n",
              "    .dataframe thead th {\n",
              "        text-align: right;\n",
              "    }\n",
              "</style>\n",
              "<table border=\"1\" class=\"dataframe\">\n",
              "  <thead>\n",
              "    <tr style=\"text-align: right;\">\n",
              "      <th></th>\n",
              "      <th>pkSeqID</th>\n",
              "      <th>proto</th>\n",
              "      <th>saddr</th>\n",
              "      <th>sport</th>\n",
              "      <th>daddr</th>\n",
              "      <th>dport</th>\n",
              "      <th>seq</th>\n",
              "      <th>stddev</th>\n",
              "      <th>N_IN_Conn_P_SrcIP</th>\n",
              "      <th>min</th>\n",
              "      <th>state_number</th>\n",
              "      <th>mean</th>\n",
              "      <th>N_IN_Conn_P_DstIP</th>\n",
              "      <th>drate</th>\n",
              "      <th>srate</th>\n",
              "      <th>max</th>\n",
              "      <th>attack</th>\n",
              "      <th>category</th>\n",
              "      <th>subcategory</th>\n",
              "    </tr>\n",
              "  </thead>\n",
              "  <tbody>\n",
              "    <tr>\n",
              "      <th>0</th>\n",
              "      <td>3142762</td>\n",
              "      <td>udp</td>\n",
              "      <td>192.168.100.150</td>\n",
              "      <td>6551</td>\n",
              "      <td>192.168.100.3</td>\n",
              "      <td>80</td>\n",
              "      <td>251984</td>\n",
              "      <td>1.900363</td>\n",
              "      <td>100</td>\n",
              "      <td>0.000000</td>\n",
              "      <td>4</td>\n",
              "      <td>2.687519</td>\n",
              "      <td>100</td>\n",
              "      <td>0.0</td>\n",
              "      <td>0.494549</td>\n",
              "      <td>4.031619</td>\n",
              "      <td>1</td>\n",
              "      <td>DDoS</td>\n",
              "      <td>UDP</td>\n",
              "    </tr>\n",
              "    <tr>\n",
              "      <th>1</th>\n",
              "      <td>2432264</td>\n",
              "      <td>tcp</td>\n",
              "      <td>192.168.100.150</td>\n",
              "      <td>5532</td>\n",
              "      <td>192.168.100.3</td>\n",
              "      <td>80</td>\n",
              "      <td>256724</td>\n",
              "      <td>0.078003</td>\n",
              "      <td>38</td>\n",
              "      <td>3.856930</td>\n",
              "      <td>3</td>\n",
              "      <td>3.934927</td>\n",
              "      <td>100</td>\n",
              "      <td>0.0</td>\n",
              "      <td>0.256493</td>\n",
              "      <td>4.012924</td>\n",
              "      <td>1</td>\n",
              "      <td>DDoS</td>\n",
              "      <td>TCP</td>\n",
              "    </tr>\n",
              "    <tr>\n",
              "      <th>2</th>\n",
              "      <td>1976315</td>\n",
              "      <td>tcp</td>\n",
              "      <td>192.168.100.147</td>\n",
              "      <td>27165</td>\n",
              "      <td>192.168.100.3</td>\n",
              "      <td>80</td>\n",
              "      <td>62921</td>\n",
              "      <td>0.268666</td>\n",
              "      <td>100</td>\n",
              "      <td>2.974100</td>\n",
              "      <td>3</td>\n",
              "      <td>3.341429</td>\n",
              "      <td>100</td>\n",
              "      <td>0.0</td>\n",
              "      <td>0.294880</td>\n",
              "      <td>3.609205</td>\n",
              "      <td>1</td>\n",
              "      <td>DDoS</td>\n",
              "      <td>TCP</td>\n",
              "    </tr>\n",
              "    <tr>\n",
              "      <th>3</th>\n",
              "      <td>1240757</td>\n",
              "      <td>udp</td>\n",
              "      <td>192.168.100.150</td>\n",
              "      <td>48719</td>\n",
              "      <td>192.168.100.3</td>\n",
              "      <td>80</td>\n",
              "      <td>99168</td>\n",
              "      <td>1.823185</td>\n",
              "      <td>63</td>\n",
              "      <td>0.000000</td>\n",
              "      <td>4</td>\n",
              "      <td>3.222832</td>\n",
              "      <td>63</td>\n",
              "      <td>0.0</td>\n",
              "      <td>0.461435</td>\n",
              "      <td>4.942302</td>\n",
              "      <td>1</td>\n",
              "      <td>DoS</td>\n",
              "      <td>UDP</td>\n",
              "    </tr>\n",
              "    <tr>\n",
              "      <th>4</th>\n",
              "      <td>3257991</td>\n",
              "      <td>udp</td>\n",
              "      <td>192.168.100.147</td>\n",
              "      <td>22461</td>\n",
              "      <td>192.168.100.3</td>\n",
              "      <td>80</td>\n",
              "      <td>105063</td>\n",
              "      <td>0.822418</td>\n",
              "      <td>100</td>\n",
              "      <td>2.979995</td>\n",
              "      <td>4</td>\n",
              "      <td>3.983222</td>\n",
              "      <td>100</td>\n",
              "      <td>0.0</td>\n",
              "      <td>1.002999</td>\n",
              "      <td>4.994452</td>\n",
              "      <td>1</td>\n",
              "      <td>DDoS</td>\n",
              "      <td>UDP</td>\n",
              "    </tr>\n",
              "  </tbody>\n",
              "</table>\n",
              "</div>\n",
              "    <div class=\"colab-df-buttons\">\n",
              "\n",
              "  <div class=\"colab-df-container\">\n",
              "    <button class=\"colab-df-convert\" onclick=\"convertToInteractive('df-09d755b5-724b-4f2f-86ad-6971e1fe48da')\"\n",
              "            title=\"Convert this dataframe to an interactive table.\"\n",
              "            style=\"display:none;\">\n",
              "\n",
              "  <svg xmlns=\"http://www.w3.org/2000/svg\" height=\"24px\" viewBox=\"0 -960 960 960\">\n",
              "    <path d=\"M120-120v-720h720v720H120Zm60-500h600v-160H180v160Zm220 220h160v-160H400v160Zm0 220h160v-160H400v160ZM180-400h160v-160H180v160Zm440 0h160v-160H620v160ZM180-180h160v-160H180v160Zm440 0h160v-160H620v160Z\"/>\n",
              "  </svg>\n",
              "    </button>\n",
              "\n",
              "  <style>\n",
              "    .colab-df-container {\n",
              "      display:flex;\n",
              "      gap: 12px;\n",
              "    }\n",
              "\n",
              "    .colab-df-convert {\n",
              "      background-color: #E8F0FE;\n",
              "      border: none;\n",
              "      border-radius: 50%;\n",
              "      cursor: pointer;\n",
              "      display: none;\n",
              "      fill: #1967D2;\n",
              "      height: 32px;\n",
              "      padding: 0 0 0 0;\n",
              "      width: 32px;\n",
              "    }\n",
              "\n",
              "    .colab-df-convert:hover {\n",
              "      background-color: #E2EBFA;\n",
              "      box-shadow: 0px 1px 2px rgba(60, 64, 67, 0.3), 0px 1px 3px 1px rgba(60, 64, 67, 0.15);\n",
              "      fill: #174EA6;\n",
              "    }\n",
              "\n",
              "    .colab-df-buttons div {\n",
              "      margin-bottom: 4px;\n",
              "    }\n",
              "\n",
              "    [theme=dark] .colab-df-convert {\n",
              "      background-color: #3B4455;\n",
              "      fill: #D2E3FC;\n",
              "    }\n",
              "\n",
              "    [theme=dark] .colab-df-convert:hover {\n",
              "      background-color: #434B5C;\n",
              "      box-shadow: 0px 1px 3px 1px rgba(0, 0, 0, 0.15);\n",
              "      filter: drop-shadow(0px 1px 2px rgba(0, 0, 0, 0.3));\n",
              "      fill: #FFFFFF;\n",
              "    }\n",
              "  </style>\n",
              "\n",
              "    <script>\n",
              "      const buttonEl =\n",
              "        document.querySelector('#df-09d755b5-724b-4f2f-86ad-6971e1fe48da button.colab-df-convert');\n",
              "      buttonEl.style.display =\n",
              "        google.colab.kernel.accessAllowed ? 'block' : 'none';\n",
              "\n",
              "      async function convertToInteractive(key) {\n",
              "        const element = document.querySelector('#df-09d755b5-724b-4f2f-86ad-6971e1fe48da');\n",
              "        const dataTable =\n",
              "          await google.colab.kernel.invokeFunction('convertToInteractive',\n",
              "                                                    [key], {});\n",
              "        if (!dataTable) return;\n",
              "\n",
              "        const docLinkHtml = 'Like what you see? Visit the ' +\n",
              "          '<a target=\"_blank\" href=https://colab.research.google.com/notebooks/data_table.ipynb>data table notebook</a>'\n",
              "          + ' to learn more about interactive tables.';\n",
              "        element.innerHTML = '';\n",
              "        dataTable['output_type'] = 'display_data';\n",
              "        await google.colab.output.renderOutput(dataTable, element);\n",
              "        const docLink = document.createElement('div');\n",
              "        docLink.innerHTML = docLinkHtml;\n",
              "        element.appendChild(docLink);\n",
              "      }\n",
              "    </script>\n",
              "  </div>\n",
              "\n",
              "\n",
              "<div id=\"df-6bc23021-31a6-4379-bb00-25853ad2fa00\">\n",
              "  <button class=\"colab-df-quickchart\" onclick=\"quickchart('df-6bc23021-31a6-4379-bb00-25853ad2fa00')\"\n",
              "            title=\"Suggest charts\"\n",
              "            style=\"display:none;\">\n",
              "\n",
              "<svg xmlns=\"http://www.w3.org/2000/svg\" height=\"24px\"viewBox=\"0 0 24 24\"\n",
              "     width=\"24px\">\n",
              "    <g>\n",
              "        <path d=\"M19 3H5c-1.1 0-2 .9-2 2v14c0 1.1.9 2 2 2h14c1.1 0 2-.9 2-2V5c0-1.1-.9-2-2-2zM9 17H7v-7h2v7zm4 0h-2V7h2v10zm4 0h-2v-4h2v4z\"/>\n",
              "    </g>\n",
              "</svg>\n",
              "  </button>\n",
              "\n",
              "<style>\n",
              "  .colab-df-quickchart {\n",
              "      --bg-color: #E8F0FE;\n",
              "      --fill-color: #1967D2;\n",
              "      --hover-bg-color: #E2EBFA;\n",
              "      --hover-fill-color: #174EA6;\n",
              "      --disabled-fill-color: #AAA;\n",
              "      --disabled-bg-color: #DDD;\n",
              "  }\n",
              "\n",
              "  [theme=dark] .colab-df-quickchart {\n",
              "      --bg-color: #3B4455;\n",
              "      --fill-color: #D2E3FC;\n",
              "      --hover-bg-color: #434B5C;\n",
              "      --hover-fill-color: #FFFFFF;\n",
              "      --disabled-bg-color: #3B4455;\n",
              "      --disabled-fill-color: #666;\n",
              "  }\n",
              "\n",
              "  .colab-df-quickchart {\n",
              "    background-color: var(--bg-color);\n",
              "    border: none;\n",
              "    border-radius: 50%;\n",
              "    cursor: pointer;\n",
              "    display: none;\n",
              "    fill: var(--fill-color);\n",
              "    height: 32px;\n",
              "    padding: 0;\n",
              "    width: 32px;\n",
              "  }\n",
              "\n",
              "  .colab-df-quickchart:hover {\n",
              "    background-color: var(--hover-bg-color);\n",
              "    box-shadow: 0 1px 2px rgba(60, 64, 67, 0.3), 0 1px 3px 1px rgba(60, 64, 67, 0.15);\n",
              "    fill: var(--button-hover-fill-color);\n",
              "  }\n",
              "\n",
              "  .colab-df-quickchart-complete:disabled,\n",
              "  .colab-df-quickchart-complete:disabled:hover {\n",
              "    background-color: var(--disabled-bg-color);\n",
              "    fill: var(--disabled-fill-color);\n",
              "    box-shadow: none;\n",
              "  }\n",
              "\n",
              "  .colab-df-spinner {\n",
              "    border: 2px solid var(--fill-color);\n",
              "    border-color: transparent;\n",
              "    border-bottom-color: var(--fill-color);\n",
              "    animation:\n",
              "      spin 1s steps(1) infinite;\n",
              "  }\n",
              "\n",
              "  @keyframes spin {\n",
              "    0% {\n",
              "      border-color: transparent;\n",
              "      border-bottom-color: var(--fill-color);\n",
              "      border-left-color: var(--fill-color);\n",
              "    }\n",
              "    20% {\n",
              "      border-color: transparent;\n",
              "      border-left-color: var(--fill-color);\n",
              "      border-top-color: var(--fill-color);\n",
              "    }\n",
              "    30% {\n",
              "      border-color: transparent;\n",
              "      border-left-color: var(--fill-color);\n",
              "      border-top-color: var(--fill-color);\n",
              "      border-right-color: var(--fill-color);\n",
              "    }\n",
              "    40% {\n",
              "      border-color: transparent;\n",
              "      border-right-color: var(--fill-color);\n",
              "      border-top-color: var(--fill-color);\n",
              "    }\n",
              "    60% {\n",
              "      border-color: transparent;\n",
              "      border-right-color: var(--fill-color);\n",
              "    }\n",
              "    80% {\n",
              "      border-color: transparent;\n",
              "      border-right-color: var(--fill-color);\n",
              "      border-bottom-color: var(--fill-color);\n",
              "    }\n",
              "    90% {\n",
              "      border-color: transparent;\n",
              "      border-bottom-color: var(--fill-color);\n",
              "    }\n",
              "  }\n",
              "</style>\n",
              "\n",
              "  <script>\n",
              "    async function quickchart(key) {\n",
              "      const quickchartButtonEl =\n",
              "        document.querySelector('#' + key + ' button');\n",
              "      quickchartButtonEl.disabled = true;  // To prevent multiple clicks.\n",
              "      quickchartButtonEl.classList.add('colab-df-spinner');\n",
              "      try {\n",
              "        const charts = await google.colab.kernel.invokeFunction(\n",
              "            'suggestCharts', [key], {});\n",
              "      } catch (error) {\n",
              "        console.error('Error during call to suggestCharts:', error);\n",
              "      }\n",
              "      quickchartButtonEl.classList.remove('colab-df-spinner');\n",
              "      quickchartButtonEl.classList.add('colab-df-quickchart-complete');\n",
              "    }\n",
              "    (() => {\n",
              "      let quickchartButtonEl =\n",
              "        document.querySelector('#df-6bc23021-31a6-4379-bb00-25853ad2fa00 button');\n",
              "      quickchartButtonEl.style.display =\n",
              "        google.colab.kernel.accessAllowed ? 'block' : 'none';\n",
              "    })();\n",
              "  </script>\n",
              "</div>\n",
              "\n",
              "    </div>\n",
              "  </div>\n"
            ],
            "application/vnd.google.colaboratory.intrinsic+json": {
              "type": "dataframe",
              "variable_name": "dataset_train"
            }
          },
          "metadata": {},
          "execution_count": 6
        }
      ],
      "source": [
        "import numpy as np\n",
        "import pandas as pd\n",
        "\n",
        "#Load the CSV file as a dataframe\n",
        "dataset_train = pd.read_csv(\"UNSW_2018_IoT_Botnet_Final_Training.csv\")\n",
        "dataset_test = pd.read_csv(\"UNSW_2018_IoT_Botnet_Final_Testing.csv\")\n",
        "\n",
        "dataset_train.head()\n"
      ]
    },
    {
      "cell_type": "code",
      "execution_count": 7,
      "metadata": {
        "colab": {
          "base_uri": "https://localhost:8080/"
        },
        "id": "PTSGGsy2u198",
        "outputId": "cabcc059-3979-4c1f-ca19-efc6a4c96131"
      },
      "outputs": [
        {
          "output_type": "stream",
          "name": "stderr",
          "text": [
            "/usr/local/lib/python3.10/dist-packages/sklearn/preprocessing/_label.py:116: DataConversionWarning: A column-vector y was passed when a 1d array was expected. Please change the shape of y to (n_samples, ), for example using ravel().\n",
            "  y = column_or_1d(y, warn=True)\n",
            "/usr/local/lib/python3.10/dist-packages/sklearn/preprocessing/_label.py:134: DataConversionWarning: A column-vector y was passed when a 1d array was expected. Please change the shape of y to (n_samples, ), for example using ravel().\n",
            "  y = column_or_1d(y, dtype=self.classes_.dtype, warn=True)\n"
          ]
        },
        {
          "output_type": "execute_result",
          "data": {
            "text/plain": [
              "((2934817, 10), (733705, 10), (2934817, 5), (733705, 5))"
            ]
          },
          "metadata": {},
          "execution_count": 7
        }
      ],
      "source": [
        "#Extract the features and the target from the dataframe\n",
        "x_train = dataset_train.iloc[:,6:-3].values\n",
        "x_test = dataset_test.iloc[:,6:-3].values\n",
        "y_train = dataset_train.iloc[:,-2:-1].values\n",
        "y_test = dataset_test.iloc[:,-2:-1].values\n",
        "\n",
        "#Normalize the features\n",
        "from sklearn.preprocessing import StandardScaler\n",
        "sc = StandardScaler()\n",
        "x_train = sc.fit_transform(x_train)\n",
        "x_test = sc.transform(x_test)\n",
        "\n",
        "#Encode the target (from string to array)\n",
        "from sklearn.preprocessing import LabelEncoder\n",
        "le = LabelEncoder()\n",
        "y_train = le.fit_transform(y_train)\n",
        "y_test = le.transform(y_test)\n",
        "\n",
        "#Convert labels to categorical variables\n",
        "import keras\n",
        "num_classes = len(np.unique(y_train))\n",
        "y_train = keras.utils.to_categorical(y_train, num_classes)\n",
        "y_test = keras.utils.to_categorical(y_test, num_classes)\n",
        "\n",
        "x_train.shape, x_test.shape, y_train.shape, y_test.shape"
      ]
    },
    {
      "cell_type": "code",
      "execution_count": 8,
      "metadata": {
        "colab": {
          "base_uri": "https://localhost:8080/"
        },
        "id": "ZAm85szuvORR",
        "outputId": "f075033b-799c-41dd-befc-5152a10905e2"
      },
      "outputs": [
        {
          "output_type": "stream",
          "name": "stdout",
          "text": [
            "\n",
            "Model Complete.\n",
            "\n",
            "Building network 1 - Basic IDS...\n"
          ]
        }
      ],
      "source": [
        "#Define some variables\n",
        "max_input = x_train.shape[1]\n",
        "batch_size = 512\n",
        "epochs = 10\n",
        "plot = True\n",
        "\n",
        "#Import Machine Learning Libraries\n",
        "import keras\n",
        "from keras.models import Sequential\n",
        "from keras.layers import Dense, Activation, Dropout\n",
        "\n",
        "\n",
        "\"\"\"Generic function to create a fully-connected neural network.\n",
        "\n",
        "    # Arguments\n",
        "        n_dense: int > 0. Number of dense layers.\n",
        "        dense_units: int > 0. Number of dense units per layer.\n",
        "        dropout: keras.layers.Layer. A dropout layer to apply.\n",
        "        dropout_rate: 0 <= float <= 1. The rate of dropout.\n",
        "        kernel_initializer: str. The initializer for the weights.\n",
        "        optimizer: str/keras.optimizers.Optimizer. The optimizer to use.\n",
        "        num_classes: int > 0. The number of classes to predict.\n",
        "        max_input: int > 0. The maximum number of input features.\n",
        "\n",
        "    # Returns\n",
        "        A Keras model instance (compiled).\n",
        "    \"\"\"\n",
        "\n",
        "def create_network(n_dense=1,\n",
        "                   dense_units=6,\n",
        "                   activation= 'relu',\n",
        "                   dropout=Dropout,\n",
        "                   dropout_rate=0.1,\n",
        "                   kernel_initializer='glorot_uniform',\n",
        "                   optimizer='adam',\n",
        "                   num_classes=1,\n",
        "                   max_input=x_train.shape[1]):\n",
        "      #Layer 1\n",
        "      # Initialize the model as a sequential one, which allows us to build the model layer by layer.\n",
        "      model = Sequential()\n",
        "\n",
        "      # Add the first dense layer with specified units and input shape. This layer is fully connected.\n",
        "      # kernel_initializer sets the method for weight initialization.\n",
        "      model.add(Dense(dense_units, input_shape=(max_input,),\n",
        "                      kernel_initializer=kernel_initializer))\n",
        "      # Add an activation function to the layer for introducing non-linearity.\n",
        "      model.add(Activation(activation))\n",
        "      # Add dropout to prevent overfitting, with the specified rate.\n",
        "      model.add(dropout(dropout_rate))\n",
        "\n",
        "\n",
        "      #Layer 2 to n-1\n",
        "      # Add additional dense layers, if n_dense > 1. Each layer has the same number of units,\n",
        "      # uses the same activation function, and includes dropout.\n",
        "      for i in range(n_dense - 1):\n",
        "          model.add(Dense(dense_units, kernel_initializer=kernel_initializer))\n",
        "          model.add(Activation(activation))\n",
        "          model.add(dropout(dropout_rate))\n",
        "\n",
        "      #Layer n\n",
        "      # Final layer: this is the output layer that has 'num_classes' units, one for each class.\n",
        "      # For binary classification, 'num_classes' would typically be 1 (with 'sigmoid' activation).\n",
        "      # For multi-class classification, it should match the number of classes and use 'softmax' activation to output probabilities.\n",
        "      model.add(Dense(num_classes))\n",
        "      model.add(Activation('softmax'))\n",
        "\n",
        "      # Compile the model with the specified loss function, optimizer, and metrics to monitor.\n",
        "      # 'categorical_crossentropy' is used for multi-class classification problems.\n",
        "      model.compile(loss='categorical_crossentropy',\n",
        "                    optimizer=optimizer,\n",
        "                    metrics=['accuracy'])\n",
        "      return model\n",
        "\n",
        "#Overide any of the hyperparameters\n",
        "network1 = {\n",
        "    'n_dense': 4,\n",
        "    'dense_units': 16\n",
        "}\n",
        "\n",
        "print(\"\\nModel Complete.\")\n",
        "\n",
        "print('\\nBuilding network 1 - Basic IDS...')"
      ]
    },
    {
      "cell_type": "code",
      "execution_count": 9,
      "metadata": {
        "id": "7cjIEjKwfhjE"
      },
      "outputs": [],
      "source": [
        "model1 = create_network(num_classes=num_classes, **network1)"
      ]
    },
    {
      "cell_type": "code",
      "execution_count": 10,
      "metadata": {
        "id": "EqoJ-RXFsK9I"
      },
      "outputs": [],
      "source": [
        "#Creating classifier\n",
        "classifier = KerasClassifier(model= model1, use_logits=False)\n"
      ]
    },
    {
      "cell_type": "code",
      "execution_count": 11,
      "metadata": {
        "colab": {
          "base_uri": "https://localhost:8080/"
        },
        "id": "1a4JK9SFsSjb",
        "outputId": "bfda49fe-732a-4598-ba71-10b327324d41"
      },
      "outputs": [
        {
          "output_type": "stream",
          "name": "stdout",
          "text": [
            "Starting the model fit\n",
            "Train on 2934817 samples\n",
            "Epoch 1/10\n",
            "2934817/2934817 [==============================] - 24s 8us/sample - loss: 0.2694 - accuracy: 0.8930\n",
            "Epoch 2/10\n",
            "2934817/2934817 [==============================] - 23s 8us/sample - loss: 0.1767 - accuracy: 0.9306\n",
            "Epoch 3/10\n",
            "2934817/2934817 [==============================] - 25s 8us/sample - loss: 0.1638 - accuracy: 0.9351\n",
            "Epoch 4/10\n",
            "2934817/2934817 [==============================] - 24s 8us/sample - loss: 0.1554 - accuracy: 0.9384\n",
            "Epoch 5/10\n",
            "2934817/2934817 [==============================] - 23s 8us/sample - loss: 0.1500 - accuracy: 0.9404\n",
            "Epoch 6/10\n",
            "2934817/2934817 [==============================] - 23s 8us/sample - loss: 0.1459 - accuracy: 0.9418\n",
            "Epoch 7/10\n",
            "2934817/2934817 [==============================] - 23s 8us/sample - loss: 0.1427 - accuracy: 0.9427\n",
            "Epoch 8/10\n",
            "2934817/2934817 [==============================] - 22s 7us/sample - loss: 0.1405 - accuracy: 0.9434\n",
            "Epoch 9/10\n",
            "2934817/2934817 [==============================] - 23s 8us/sample - loss: 0.1385 - accuracy: 0.9441\n",
            "Epoch 10/10\n",
            "2934817/2934817 [==============================] - 21s 7us/sample - loss: 0.1373 - accuracy: 0.9447\n"
          ]
        },
        {
          "output_type": "stream",
          "name": "stderr",
          "text": [
            "/usr/local/lib/python3.10/dist-packages/keras/src/engine/training_v1.py:2335: UserWarning: `Model.state_updates` will be removed in a future version. This property should not be used in TensorFlow 2.0, as `updates` are applied automatically.\n",
            "  updates = self.state_updates\n"
          ]
        }
      ],
      "source": [
        "print (\"Starting the model fit\")\n",
        "\n",
        "history = classifier.fit(x_train, y_train,\n",
        "                         batch_size=batch_size,\n",
        "                         nb_epochs=epochs, verbose=1)\n",
        "\n",
        "score_model1 = model1.evaluate(x_test,\n",
        "                               y_test,\n",
        "                               batch_size=batch_size,\n",
        "                               verbose=1)"
      ]
    },
    {
      "cell_type": "code",
      "execution_count": 12,
      "metadata": {
        "colab": {
          "base_uri": "https://localhost:8080/"
        },
        "id": "1lCKq1YDsjku",
        "outputId": "01527773-c732-4d53-e182-7e42b689105b"
      },
      "outputs": [
        {
          "output_type": "stream",
          "name": "stdout",
          "text": [
            "\n",
            "Network 1 - Basic IDS results\n",
            "Hyperparameters: {'n_dense': 4, 'dense_units': 16}\n",
            "Test score: 0.1006083511940912\n",
            "Test accuracy: 0.9566052\n"
          ]
        }
      ],
      "source": [
        "print('\\nNetwork 1 - Basic IDS results')\n",
        "print('Hyperparameters:', network1)\n",
        "print('Test score:', score_model1[0])\n",
        "print('Test accuracy:', score_model1[1])"
      ]
    },
    {
      "cell_type": "code",
      "execution_count": 13,
      "metadata": {
        "colab": {
          "base_uri": "https://localhost:8080/"
        },
        "id": "27eAC9yVx-Ab",
        "outputId": "2903b5c1-7b6e-4dec-b1b6-baf97eac2823"
      },
      "outputs": [
        {
          "output_type": "stream",
          "name": "stderr",
          "text": [
            "/usr/local/lib/python3.10/dist-packages/keras/src/engine/training_v1.py:2359: UserWarning: `Model.state_updates` will be removed in a future version. This property should not be used in TensorFlow 2.0, as `updates` are applied automatically.\n",
            "  updates=self.state_updates,\n"
          ]
        }
      ],
      "source": [
        "# Uncomment the attack that you would like to use\n",
        "attack = FastGradientMethod(estimator=classifier, eps=0.2)\n",
        "x_test_adv = attack.generate(x=x_test)\n",
        "\n",
        "# attack = BasicIterativeMethod(estimator=classifier, eps=0.2,verbose=False, max_iter=10)\n",
        "# x_test_adv = attack.generate(x=x_test)\n",
        "\n",
        "# attack = ProjectedGradientDescent(estimator=classifier, eps=0.2,verbose=False, max_iter=10)\n",
        "# x_test_adv = attack.generate(x=x_test)\n"
      ]
    },
    {
      "cell_type": "code",
      "execution_count": 1,
      "metadata": {
        "colab": {
          "base_uri": "https://localhost:8080/",
          "height": 176
        },
        "id": "unftUPlab_oo",
        "outputId": "b973e71f-bea6-4d58-bb5f-4ad35a435305"
      },
      "outputs": [
        {
          "output_type": "error",
          "ename": "NameError",
          "evalue": "name 'classifier' is not defined",
          "traceback": [
            "\u001b[0;31m---------------------------------------------------------------------------\u001b[0m",
            "\u001b[0;31mNameError\u001b[0m                                 Traceback (most recent call last)",
            "\u001b[0;32m<ipython-input-1-e8f7855f6815>\u001b[0m in \u001b[0;36m<cell line: 1>\u001b[0;34m()\u001b[0m\n\u001b[0;32m----> 1\u001b[0;31m \u001b[0mpredictions\u001b[0m \u001b[0;34m=\u001b[0m \u001b[0mclassifier\u001b[0m\u001b[0;34m.\u001b[0m\u001b[0mpredict\u001b[0m\u001b[0;34m(\u001b[0m\u001b[0mx_test_adv\u001b[0m\u001b[0;34m)\u001b[0m\u001b[0;34m\u001b[0m\u001b[0;34m\u001b[0m\u001b[0m\n\u001b[0m\u001b[1;32m      2\u001b[0m \u001b[0maccuracy\u001b[0m \u001b[0;34m=\u001b[0m \u001b[0mnp\u001b[0m\u001b[0;34m.\u001b[0m\u001b[0msum\u001b[0m\u001b[0;34m(\u001b[0m\u001b[0mnp\u001b[0m\u001b[0;34m.\u001b[0m\u001b[0margmax\u001b[0m\u001b[0;34m(\u001b[0m\u001b[0mpredictions\u001b[0m\u001b[0;34m,\u001b[0m \u001b[0maxis\u001b[0m\u001b[0;34m=\u001b[0m\u001b[0;36m1\u001b[0m\u001b[0;34m)\u001b[0m \u001b[0;34m==\u001b[0m \u001b[0mnp\u001b[0m\u001b[0;34m.\u001b[0m\u001b[0margmax\u001b[0m\u001b[0;34m(\u001b[0m\u001b[0my_test\u001b[0m\u001b[0;34m,\u001b[0m \u001b[0maxis\u001b[0m\u001b[0;34m=\u001b[0m\u001b[0;36m1\u001b[0m\u001b[0;34m)\u001b[0m\u001b[0;34m)\u001b[0m \u001b[0;34m/\u001b[0m \u001b[0mlen\u001b[0m\u001b[0;34m(\u001b[0m\u001b[0my_test\u001b[0m\u001b[0;34m)\u001b[0m\u001b[0;34m\u001b[0m\u001b[0;34m\u001b[0m\u001b[0m\n\u001b[1;32m      3\u001b[0m \u001b[0mprint\u001b[0m\u001b[0;34m(\u001b[0m\u001b[0;34m\"Accuracy on adversarial test examples: {}%\"\u001b[0m\u001b[0;34m.\u001b[0m\u001b[0mformat\u001b[0m\u001b[0;34m(\u001b[0m\u001b[0maccuracy\u001b[0m \u001b[0;34m*\u001b[0m \u001b[0;36m100\u001b[0m\u001b[0;34m)\u001b[0m\u001b[0;34m)\u001b[0m\u001b[0;34m\u001b[0m\u001b[0;34m\u001b[0m\u001b[0m\n",
            "\u001b[0;31mNameError\u001b[0m: name 'classifier' is not defined"
          ]
        }
      ],
      "source": [
        "predictions = classifier.predict(x_test_adv)\n",
        "accuracy = np.sum(np.argmax(predictions, axis=1) == np.argmax(y_test, axis=1)) / len(y_test)\n",
        "print(\"Accuracy on adversarial test examples: {}%\".format(accuracy * 100))"
      ]
    },
    {
      "cell_type": "code",
      "execution_count": 15,
      "metadata": {
        "id": "lBfHsh8wvkIR",
        "colab": {
          "base_uri": "https://localhost:8080/"
        },
        "outputId": "f229b25d-5092-4d0b-97d5-b31f66998ba7"
      },
      "outputs": [
        {
          "output_type": "stream",
          "name": "stdout",
          "text": [
            "[1 0 0 ... 0 1 0] [1 0 0 ... 0 1 0]\n",
            "\n",
            "Calculating the prediction accuracy ...\n",
            "\n",
            "Test accuracy of Model: 95.66051751044357%\n"
          ]
        }
      ],
      "source": [
        "#Prediction Engine\n",
        "y_true = np.argmax(y_test, axis=1)\n",
        "y_pred = np.argmax(model1.predict(x_test), axis=1)\n",
        "print(y_true, y_pred)\n",
        "\n",
        "print(\"\\nCalculating the prediction accuracy ...\")\n",
        "acc = np.sum(y_pred == y_true) / y_test.shape[0]\n",
        "print(\"\\nTest accuracy of Model: {}%\".format(acc * 100))"
      ]
    },
    {
      "cell_type": "code",
      "source": [
        "from sklearn.metrics import classification_report, confusion_matrix\n",
        "\n",
        "print(\"Generating the confusion matrix ...\")\n",
        "cm = confusion_matrix(y_true, y_pred)\n",
        "print(cm)\n",
        "\n",
        "print(\"Generating the classification report ...\")\n",
        "cr = classification_report(y_true, y_pred)\n",
        "print(cr)\n",
        "\n",
        "print(\"\\nOutput Classes in Test Dataset\\n{}\".format(dataset_test['category'].value_counts()))"
      ],
      "metadata": {
        "colab": {
          "base_uri": "https://localhost:8080/"
        },
        "id": "WUaD4iF664Tl",
        "outputId": "97e1ee2a-1894-4fff-bc91-b7bf51602915"
      },
      "execution_count": 16,
      "outputs": [
        {
          "output_type": "stream",
          "name": "stdout",
          "text": [
            "Generating the confusion matrix ...\n",
            "[[367373  16352      0   1584      0]\n",
            " [ 11575 317844      0    693      0]\n",
            " [     0     70      0     37      0]\n",
            " [  1050    464      0  16649      0]\n",
            " [     0      5      0      9      0]]\n",
            "Generating the classification report ...\n"
          ]
        },
        {
          "output_type": "stream",
          "name": "stderr",
          "text": [
            "/usr/local/lib/python3.10/dist-packages/sklearn/metrics/_classification.py:1344: UndefinedMetricWarning: Precision and F-score are ill-defined and being set to 0.0 in labels with no predicted samples. Use `zero_division` parameter to control this behavior.\n",
            "  _warn_prf(average, modifier, msg_start, len(result))\n",
            "/usr/local/lib/python3.10/dist-packages/sklearn/metrics/_classification.py:1344: UndefinedMetricWarning: Precision and F-score are ill-defined and being set to 0.0 in labels with no predicted samples. Use `zero_division` parameter to control this behavior.\n",
            "  _warn_prf(average, modifier, msg_start, len(result))\n"
          ]
        },
        {
          "output_type": "stream",
          "name": "stdout",
          "text": [
            "              precision    recall  f1-score   support\n",
            "\n",
            "           0       0.97      0.95      0.96    385309\n",
            "           1       0.95      0.96      0.96    330112\n",
            "           2       0.00      0.00      0.00       107\n",
            "           3       0.88      0.92      0.90     18163\n",
            "           4       0.00      0.00      0.00        14\n",
            "\n",
            "    accuracy                           0.96    733705\n",
            "   macro avg       0.56      0.57      0.56    733705\n",
            "weighted avg       0.96      0.96      0.96    733705\n",
            "\n",
            "\n",
            "Output Classes in Test Dataset\n",
            "category\n",
            "DDoS              385309\n",
            "DoS               330112\n",
            "Reconnaissance     18163\n",
            "Normal               107\n",
            "Theft                 14\n",
            "Name: count, dtype: int64\n"
          ]
        },
        {
          "output_type": "stream",
          "name": "stderr",
          "text": [
            "/usr/local/lib/python3.10/dist-packages/sklearn/metrics/_classification.py:1344: UndefinedMetricWarning: Precision and F-score are ill-defined and being set to 0.0 in labels with no predicted samples. Use `zero_division` parameter to control this behavior.\n",
            "  _warn_prf(average, modifier, msg_start, len(result))\n"
          ]
        }
      ]
    },
    {
      "cell_type": "code",
      "execution_count": 17,
      "metadata": {
        "id": "lIHUsdhivk7T",
        "colab": {
          "base_uri": "https://localhost:8080/"
        },
        "outputId": "4b0e7257-7acf-4baf-dd61-69d9a705efdd"
      },
      "outputs": [
        {
          "output_type": "stream",
          "name": "stdout",
          "text": [
            "Generating the confusion matrix ...\n",
            "[[135242 223448      0  26619      0]\n",
            " [127348 170987      0  31777      0]\n",
            " [     8     44      0     55      0]\n",
            " [ 10691   3664      0   3808      0]\n",
            " [     0     14      0      0      0]]\n",
            "Generating the classification report ...\n"
          ]
        },
        {
          "output_type": "stream",
          "name": "stderr",
          "text": [
            "/usr/local/lib/python3.10/dist-packages/sklearn/metrics/_classification.py:1344: UndefinedMetricWarning: Precision and F-score are ill-defined and being set to 0.0 in labels with no predicted samples. Use `zero_division` parameter to control this behavior.\n",
            "  _warn_prf(average, modifier, msg_start, len(result))\n",
            "/usr/local/lib/python3.10/dist-packages/sklearn/metrics/_classification.py:1344: UndefinedMetricWarning: Precision and F-score are ill-defined and being set to 0.0 in labels with no predicted samples. Use `zero_division` parameter to control this behavior.\n",
            "  _warn_prf(average, modifier, msg_start, len(result))\n"
          ]
        },
        {
          "output_type": "stream",
          "name": "stdout",
          "text": [
            "              precision    recall  f1-score   support\n",
            "\n",
            "           0       0.49      0.35      0.41    385309\n",
            "           1       0.43      0.52      0.47    330112\n",
            "           2       0.00      0.00      0.00       107\n",
            "           3       0.06      0.21      0.09     18163\n",
            "           4       0.00      0.00      0.00        14\n",
            "\n",
            "    accuracy                           0.42    733705\n",
            "   macro avg       0.20      0.22      0.19    733705\n",
            "weighted avg       0.45      0.42      0.43    733705\n",
            "\n",
            "\n",
            "Output Classes in Test Dataset\n",
            "category\n",
            "DDoS              385309\n",
            "DoS               330112\n",
            "Reconnaissance     18163\n",
            "Normal               107\n",
            "Theft                 14\n",
            "Name: count, dtype: int64\n"
          ]
        },
        {
          "output_type": "stream",
          "name": "stderr",
          "text": [
            "/usr/local/lib/python3.10/dist-packages/sklearn/metrics/_classification.py:1344: UndefinedMetricWarning: Precision and F-score are ill-defined and being set to 0.0 in labels with no predicted samples. Use `zero_division` parameter to control this behavior.\n",
            "  _warn_prf(average, modifier, msg_start, len(result))\n"
          ]
        }
      ],
      "source": [
        "#Confusion matrix and classification report for the attack methods\n",
        "from sklearn.metrics import classification_report, confusion_matrix\n",
        "\n",
        "print(\"Generating the confusion matrix ...\")\n",
        "cm = confusion_matrix(np.argmax(y_test, axis=1), np.argmax(predictions, axis=1))\n",
        "print(cm)\n",
        "\n",
        "print(\"Generating the classification report ...\")\n",
        "cr = classification_report(np.argmax(y_test, axis=1), np.argmax(predictions, axis=1))\n",
        "print(cr)\n",
        "\n",
        "print(\"\\nOutput Classes in Test Dataset\\n{}\".format(dataset_test['category'].value_counts()))\n"
      ]
    }
  ],
  "metadata": {
    "colab": {
      "provenance": []
    },
    "kernelspec": {
      "display_name": "Python 3",
      "name": "python3"
    },
    "language_info": {
      "name": "python"
    }
  },
  "nbformat": 4,
  "nbformat_minor": 0
}